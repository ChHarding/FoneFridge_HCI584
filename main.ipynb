{
 "metadata": {
  "language_info": {
   "codemirror_mode": {
    "name": "ipython",
    "version": 3
   },
   "file_extension": ".py",
   "mimetype": "text/x-python",
   "name": "python",
   "nbconvert_exporter": "python",
   "pygments_lexer": "ipython3",
   "version": "3.9.1"
  },
  "orig_nbformat": 4,
  "kernelspec": {
   "name": "python3",
   "display_name": "Python 3.9.1 64-bit"
  },
  "interpreter": {
   "hash": "33dc6d49505b4536b6a128d9d7c879e1fa44477ad44947bbbe73093067fe6393"
  }
 },
 "nbformat": 4,
 "nbformat_minor": 2,
 "cells": [
  {
   "source": [
    "# ITEM SEARCH\n",
    "\n",
    "To do:\n",
    "    call items from popular items library \n",
    "    display\n",
    "\n"
   ],
   "cell_type": "markdown",
   "metadata": {}
  },
  {
   "cell_type": "code",
   "execution_count": 2,
   "metadata": {},
   "outputs": [
    {
     "output_type": "display_data",
     "data": {
      "text/plain": "          title      type  notify (days)  expiration (days)\n0  orange juice  Beverage              3                 60\n1      iced tea  Beverage              2                 10\n2          beef      Meat              3                  5\n3         liver      Meat              3                  5\n4       chicken      Meat              1                  2",
      "text/html": "<div>\n<style scoped>\n    .dataframe tbody tr th:only-of-type {\n        vertical-align: middle;\n    }\n\n    .dataframe tbody tr th {\n        vertical-align: top;\n    }\n\n    .dataframe thead th {\n        text-align: right;\n    }\n</style>\n<table border=\"1\" class=\"dataframe\">\n  <thead>\n    <tr style=\"text-align: right;\">\n      <th></th>\n      <th>title</th>\n      <th>type</th>\n      <th>notify (days)</th>\n      <th>expiration (days)</th>\n    </tr>\n  </thead>\n  <tbody>\n    <tr>\n      <th>0</th>\n      <td>orange juice</td>\n      <td>Beverage</td>\n      <td>3</td>\n      <td>60</td>\n    </tr>\n    <tr>\n      <th>1</th>\n      <td>iced tea</td>\n      <td>Beverage</td>\n      <td>2</td>\n      <td>10</td>\n    </tr>\n    <tr>\n      <th>2</th>\n      <td>beef</td>\n      <td>Meat</td>\n      <td>3</td>\n      <td>5</td>\n    </tr>\n    <tr>\n      <th>3</th>\n      <td>liver</td>\n      <td>Meat</td>\n      <td>3</td>\n      <td>5</td>\n    </tr>\n    <tr>\n      <th>4</th>\n      <td>chicken</td>\n      <td>Meat</td>\n      <td>1</td>\n      <td>2</td>\n    </tr>\n  </tbody>\n</table>\n</div>"
     },
     "metadata": {}
    }
   ],
   "source": [
    "import pandas as pd \n",
    "\n",
    "df = pd.read_csv(\"popular_items_library.csv\")\n",
    "display(df.head(5))\n"
   ]
  },
  {
   "cell_type": "code",
   "execution_count": 14,
   "metadata": {},
   "outputs": [],
   "source": [
    "#searching for an item\n",
    "#f = input(\"search foods from popular items library:\")\n",
    "f = \"beef\"\n"
   ]
  },
  {
   "cell_type": "code",
   "execution_count": 18,
   "metadata": {},
   "outputs": [
    {
     "output_type": "stream",
     "name": "stdout",
     "text": [
      "   title  type  notify (days)  expiration (days)\n",
      "1   beef  Meat              3                  5\n",
      "24  beef  xxxx              3                  5\n",
      "error, more than one result found.\n",
      "  title  type  notify (days)  expiration (days)\n",
      "0  beef  Meat              3                  5\n",
      "1  beef  xxxx              3                  5\n",
      "title                beef\n",
      "type                 Meat\n",
      "notify (days)           3\n",
      "expiration (days)       5\n",
      "Name: 0, dtype: object\n"
     ]
    }
   ],
   "source": [
    "\n",
    "#query_str = \"title == @f\"  # \"title == 'beef'\"\n",
    "\n",
    "res = df.query(\"title == @f\")\n",
    "print(res)\n",
    "\n",
    "\n",
    "if len(res) > 1:\n",
    "    print(\"error, more than one result found.\")\n",
    "    res.reset_index(drop=True, inplace=True)\n",
    "    print(res)\n",
    "    res = res.loc[0]\n",
    "\n",
    "print(res)\n"
   ]
  },
  {
   "cell_type": "code",
   "execution_count": 9,
   "metadata": {},
   "outputs": [
    {
     "output_type": "stream",
     "name": "stdout",
     "text": [
      "     title  type  notify (days)  expiration (days)\n1     beef  Meat              3                  5\n2    liver  Meat              3                  5\n3  chicken  Meat              1                  2\n"
     ]
    },
    {
     "output_type": "execute_result",
     "data": {
      "text/plain": [
       "[5, 5, 2]"
      ]
     },
     "metadata": {},
     "execution_count": 9
    }
   ],
   "source": [
    "res = df.query(\"type == 'Meat'\")\n",
    "print(res)\n",
    "\n",
    "c = res[\"expiration (days)\"]\n",
    "\n",
    "list(c)"
   ]
  },
  {
   "cell_type": "code",
   "execution_count": 3,
   "metadata": {},
   "outputs": [
    {
     "output_type": "display_data",
     "data": {
      "text/plain": "  title  type  amount  entry date notify (days) expiration (days)\n0  beef  Meat       3  2021-06-16    2021-06-18        2021-06-21",
      "text/html": "<div>\n<style scoped>\n    .dataframe tbody tr th:only-of-type {\n        vertical-align: middle;\n    }\n\n    .dataframe tbody tr th {\n        vertical-align: top;\n    }\n\n    .dataframe thead th {\n        text-align: right;\n    }\n</style>\n<table border=\"1\" class=\"dataframe\">\n  <thead>\n    <tr style=\"text-align: right;\">\n      <th></th>\n      <th>title</th>\n      <th>type</th>\n      <th>amount</th>\n      <th>entry date</th>\n      <th>notify (days)</th>\n      <th>expiration (days)</th>\n    </tr>\n  </thead>\n  <tbody>\n    <tr>\n      <th>0</th>\n      <td>beef</td>\n      <td>Meat</td>\n      <td>3</td>\n      <td>2021-06-16</td>\n      <td>2021-06-18</td>\n      <td>2021-06-21</td>\n    </tr>\n  </tbody>\n</table>\n</div>"
     },
     "metadata": {}
    },
    {
     "output_type": "stream",
     "name": "stdout",
     "text": [
      "title                object\ntype                 object\namount                int64\nentry date           object\nnotify (days)        object\nexpiration (days)    object\ndtype: object\ntitle                object\ntype                 object\nnotify (days)         int64\nexpiration (days)     int64\ndtype: object\n"
     ]
    }
   ],
   "source": [
    "df_user = pd.read_csv(\"user_items.csv\")\n",
    "display(df_user.head(5))\n",
    "print(df_user.dtypes)\n",
    "print(df.dtypes)\n"
   ]
  },
  {
   "cell_type": "code",
   "execution_count": 41,
   "metadata": {},
   "outputs": [
    {
     "output_type": "stream",
     "name": "stdout",
     "text": [
      "2021-06-16\n"
     ]
    },
    {
     "output_type": "display_data",
     "data": {
      "text/plain": "  title  type amount  entry date notify (days) expiration (days)\n0  beef  Meat      3  2021-06-16    2021-06-18        2021-06-21",
      "text/html": "<div>\n<style scoped>\n    .dataframe tbody tr th:only-of-type {\n        vertical-align: middle;\n    }\n\n    .dataframe tbody tr th {\n        vertical-align: top;\n    }\n\n    .dataframe thead th {\n        text-align: right;\n    }\n</style>\n<table border=\"1\" class=\"dataframe\">\n  <thead>\n    <tr style=\"text-align: right;\">\n      <th></th>\n      <th>title</th>\n      <th>type</th>\n      <th>amount</th>\n      <th>entry date</th>\n      <th>notify (days)</th>\n      <th>expiration (days)</th>\n    </tr>\n  </thead>\n  <tbody>\n    <tr>\n      <th>0</th>\n      <td>beef</td>\n      <td>Meat</td>\n      <td>3</td>\n      <td>2021-06-16</td>\n      <td>2021-06-18</td>\n      <td>2021-06-21</td>\n    </tr>\n  </tbody>\n</table>\n</div>"
     },
     "metadata": {}
    }
   ],
   "source": [
    "import datetime\n",
    "\n",
    "t = res[\"type\"]\n",
    "a = 3\n",
    "today = datetime.datetime.today().date()\n",
    "print(today)\n",
    "expire = datetime.timedelta(days=int(res[\"expiration (days)\"]))\n",
    "notify = datetime.timedelta(days=int(res[\"notify (days)\"]))\n",
    "\n",
    "new_row = {\"title\":f, \"type\":t, \"amount\":a, \"entry date\":today, \"notify (days)\": today + expire - notify, \"expiration (days)\": today + expire}\n",
    "df_user = df_user.append(new_row, ignore_index=True)\n",
    "\n",
    "display(df_user)\n"
   ]
  },
  {
   "cell_type": "code",
   "execution_count": 42,
   "metadata": {},
   "outputs": [],
   "source": [
    "\n",
    "df_user.to_csv('user_items.csv', mode=\"w+\", index=False)"
   ]
  },
  {
   "cell_type": "code",
   "execution_count": 1,
   "metadata": {},
   "outputs": [
    {
     "output_type": "error",
     "ename": "NameError",
     "evalue": "name 'pd' is not defined",
     "traceback": [
      "\u001b[1;31m---------------------------------------------------------------------------\u001b[0m",
      "\u001b[1;31mNameError\u001b[0m                                 Traceback (most recent call last)",
      "\u001b[1;32m<ipython-input-1-27da7fefa665>\u001b[0m in \u001b[0;36m<module>\u001b[1;34m\u001b[0m\n\u001b[0;32m      1\u001b[0m \u001b[1;31m# instruc\u001b[0m\u001b[1;33m\u001b[0m\u001b[1;33m\u001b[0m\u001b[1;33m\u001b[0m\u001b[0m\n\u001b[0;32m      2\u001b[0m \u001b[1;33m\u001b[0m\u001b[0m\n\u001b[1;32m----> 3\u001b[1;33m \u001b[0mdf\u001b[0m \u001b[1;33m=\u001b[0m \u001b[0mpd\u001b[0m\u001b[1;33m.\u001b[0m\u001b[0mread_csv\u001b[0m\u001b[1;33m(\u001b[0m\u001b[1;34m\"popular_items_library.csv\"\u001b[0m\u001b[1;33m)\u001b[0m\u001b[1;33m\u001b[0m\u001b[1;33m\u001b[0m\u001b[0m\n\u001b[0m\u001b[0;32m      4\u001b[0m \u001b[0mf\u001b[0m \u001b[1;33m=\u001b[0m \u001b[0minput\u001b[0m\u001b[1;33m(\u001b[0m\u001b[1;34m\"search food by name\"\u001b[0m\u001b[1;33m)\u001b[0m \u001b[1;31m# beef\u001b[0m\u001b[1;33m\u001b[0m\u001b[1;33m\u001b[0m\u001b[0m\n\u001b[0;32m      5\u001b[0m \u001b[1;33m\u001b[0m\u001b[0m\n",
      "\u001b[1;31mNameError\u001b[0m: name 'pd' is not defined"
     ]
    }
   ],
   "source": [
    "# instruc\n",
    "\n",
    "\n",
    "query_str = \"title == '\" + f + \"'\"  # \"title == 'beef'\"\n",
    "\n",
    "res = df.query(query_str)\n",
    "print(res)\n",
    "\n",
    "print(\"expires in\",res[\"expiration (days)\"]) # pull out cell value\n",
    "\n",
    "# now search by food type\n",
    "f = input(\"search food by type\") # Meat\n",
    "query_str = \"type == '\" + f + \"'\"  \n",
    "\n",
    "res = df.query(query_str)\n",
    "print(\"found\", len(res), \"foods of that type\")\n",
    "print(res)\n",
    "\n"
   ]
  },
  {
   "cell_type": "code",
   "execution_count": null,
   "metadata": {},
   "outputs": [],
   "source": [
    "#saving user data \n",
    "df_user = pd.read_csv(\"user_items_template.csv\")\n",
    "user_name = input(\"Please enter a username:\")\n",
    "print(user_name, \"_items.csv\")\n",
    "df_user.to_csv(user_name, \"_items.csv\")"
   ]
  },
  {
   "source": [
    "pandas didn't work so I'll work with TkInter.\n",
    "\n",
    "I found a tutorial in Turkish and followed it: https://www.youtube.com/watch?v=jZ4R-k8cSQw&ab_channel=Yak%C4%B1nKamp%C3%BCsYak%C4%B1nKamp%C3%BCs \n"
   ],
   "cell_type": "markdown",
   "metadata": {}
  },
  {
   "source": [
    "# MANUAL ENTRY\n",
    "\n",
    "variables: title, type, amount, entry date, notification date, expiration date\n",
    "\n",
    "In this window the user will enter every variable. "
   ],
   "cell_type": "markdown",
   "metadata": {}
  },
  {
   "cell_type": "code",
   "execution_count": 1,
   "metadata": {},
   "outputs": [
    {
     "output_type": "stream",
     "name": "stdout",
     "text": [
      "Meat\n",
      "Boxed Meal\n"
     ]
    }
   ],
   "source": [
    "from tkinter import * \n",
    "\n",
    "#creating the window as canvas\n",
    "master_manual_entry = Tk()\n",
    "canvas = Canvas(master_manual_entry, bg=\"#FCF0E4\", height=750, width=750)\n",
    "canvas.pack()\n",
    "\n",
    "\n",
    "#creating top part\n",
    "#top frame\n",
    "frame_top = Frame(master_manual_entry, bg=\"#A9B6BE\")\n",
    "frame_top.place(relx=0.01, rely=0.01, relheight=0.1, relwidth=0.98)\n",
    "\n",
    "#label inside top frame\n",
    "title = Label(frame_top, bg=\"#A9B6BE\", text= \"FONEFRIDGE\", font=\"roboto 22\")\n",
    "title.pack(pady=14)\n",
    "\n",
    "\n",
    "\n",
    "\n",
    "#creating bottom left part\n",
    "#bottom left frame \n",
    "frame_bottom_left = Frame(master_manual_entry, bg=\"#E9BFA7\")\n",
    "frame_bottom_left.place(relx=0.01, rely=0.12, relheight=0.87, relwidth=0.4)\n",
    "\n",
    "\n",
    "\n",
    "#YOU FORGOT THE FOOD TITLEEEE!!!!!!!!\n",
    "\n",
    "#TYPE\n",
    "#type label inside bottom left frame\n",
    "type_title = Label(frame_bottom_left, bg=\"#E9BFA7\", text= \"Select Type:\", font=\"roboto 15\")\n",
    "type_title.pack(padx=5, pady=5, side=TOP)\n",
    "\n",
    "#dropdown menu\n",
    "food_type = StringVar(frame_bottom_left)\n",
    "food_type.set(\"please select food type\")\n",
    "food_type_list = [\"Beverage\", \"Meat\", \"Seafood\", \"Dairy & Eggs\", \"Fruits\", \"Root Vegetables\", \"Vegetables\", \"Snacks\", \"Bakery\", \"Canned\", \"Dressings\", \"Grains\", \"Boxed Meal\", \"Pickles\", \"Herbs & Spices\"]\n",
    "\n",
    "#make list\n",
    "def got_type(event):\n",
    "    print(event) \n",
    "\n",
    "food_type_dropdown = OptionMenu(frame_bottom_left, food_type, food_type_list, command=got_type) \n",
    "food_type_dropdown.pack(padx=5, pady=5, side=TOP)\n",
    "\n",
    "#CALLBACK of the user selection\n",
    "\n",
    "\n",
    "#AMOUNT\n",
    "#creating amount entry\n",
    "#amount label inside bottom left frame\n",
    "amount_title = Label(frame_bottom_left, bg=\"#E9BFA7\", text= \"Select Measurement Unit:\", font=\"roboto 15\")\n",
    "amount_title.pack(padx=5, pady=5, side=TOP)\n",
    "\n",
    "#dropdown unit types\n",
    "amount_type = StringVar(frame_bottom_left)\n",
    "amount_type.set(\"please select unit\")\n",
    "\n",
    "unit_dropdown = OptionMenu(frame_bottom_left, amount_type, \"gram\", \"kilogram\", \"liter\", \"count\", \"ounce\", \"pound\", \"quart\", \"gallon\")\n",
    "unit_dropdown.pack(padx=5, pady=5, side=TOP)\n",
    "\n",
    "#integer input\n",
    "#amount_enter = \n",
    "\n",
    "\n",
    "\n",
    "\n",
    "#creating bottom right part\n",
    "#bottom right frame\n",
    "frame_bottom_right = Frame(master_manual_entry, bg= \"#BE796D\")\n",
    "frame_bottom_right.place(relx=0.42, rely=0.12, relheight=0.87, relwidth=0.57)\n",
    "\n",
    "#ENTRY DATE\n",
    "#tkcalendar needed\n",
    "#entry date label\n",
    "entry_date_title = Label(frame_bottom_right, bg=\"#BE796D\", text= \"Pick the Acqusition Date:\", font=\"roboto 15\")\n",
    "entry_date_title.pack(padx=5, pady=5, side=TOP)\n",
    "\n",
    "#calendar widget\n",
    "from tkcalendar import *\n",
    "\n",
    "\n",
    "entry_date = DateEntry(frame_bottom_right, width= 120, height= 120, background= \"#FCF0E4\", foreground= \"#576566\", borderwidth= 1, locale= \"de_DE\")\n",
    "entry_date._top_cal.overrideredirect(False)\n",
    "entry_date.pack(padx=5, pady=5, side=TOP)\n",
    "\n",
    "\n",
    "#EXPIRATION DATE\n",
    "#NOTIFICATION DATE\n",
    "\n",
    "\n",
    "\n",
    "master_manual_entry.mainloop()"
   ]
  },
  {
   "source": [
    "# notes I take as I learn TkInter\n",
    "\n",
    "\n",
    "\n",
    "pack(w pads and side), place(w relative dist), grid are commands for adding on to the parent.\n",
    "\n",
    "whatever you put inside an area, that area is the parent. (frames are the parents for text etc.)\n",
    "\n",
    "If you keep packing things on the same side, it adds the new object next to (or under) the first thing."
   ],
   "cell_type": "markdown",
   "metadata": {}
  },
  {
   "source": [
    "# SEARCH WINDOW\n",
    "\n",
    "variables: (INSIDE SEARCH DATA: title, type, notification span, expiration span) amount, entry date, notification date, expiration date\n",
    "\n",
    "\n",
    "user will search for items from popular items.\n",
    "\n",
    "Items in the library has data of title, type, notification span, expiration span.\n",
    "\n",
    "when they enter the entry date, the expiration span will be added to it to create expiration date and adding notification span to it will give notification date."
   ],
   "cell_type": "markdown",
   "metadata": {}
  },
  {
   "cell_type": "code",
   "execution_count": 47,
   "metadata": {},
   "outputs": [],
   "source": [
    "from tkinter import * \n",
    "\n",
    "#creating the window as canvas\n",
    "master_library = Tk()\n",
    "canvas = Canvas(master_library, bg=\"#FCF0E4\", height=750, width=750)\n",
    "canvas.pack()\n",
    "\n",
    "\n",
    "#creating top part\n",
    "#top frame\n",
    "frame_top = Frame(master_library, bg=\"#A9B6BE\")\n",
    "frame_top.place(relx=0.01, rely=0.01, relheight=0.1, relwidth=0.98)\n",
    "\n",
    "#label inside top frame\n",
    "title = Label(frame_top, bg=\"#A9B6BE\", text= \"FONEFRIDGE\", font=\"roboto 22\")\n",
    "title.pack(pady=14)\n",
    "\n",
    "\n",
    "\n",
    "#SEARCH\n",
    "#creating the search bar\n",
    "#bottom frame\n",
    "frame_bottom = Frame(master_library, bg=\"#C2D7D0\")\n",
    "frame_bottom.place(relx=0.01, rely=0.12, relheight=0.87, relwidth=0.98)\n",
    "\n",
    "#label for search\n",
    "search_title = Label(frame_bottom, bg=\"#C2D7D0\", text= \"Search from the popular items:\", font=\"roboto 15\")\n",
    "search_title.pack(padx=5, pady=5, side=TOP)\n",
    "\n",
    "\n",
    "\n",
    "#AMOUNT\n",
    "\n",
    "\n",
    "\n",
    "#ENTRY DATE\n",
    "\n",
    "\n",
    "#EXPIRATION DATE\n",
    "#entry date + expiration span = expiration date\n",
    "\n",
    "\n",
    "#NOTIFICATION DATE\n",
    "#expiration date - notification span = notification date\n",
    "\n",
    "\n",
    "\n",
    "#NOTIFICATION TRIGGER\n",
    "\n",
    "master_library.mainloop()"
   ]
  },
  {
   "cell_type": "code",
   "execution_count": null,
   "metadata": {},
   "outputs": [],
   "source": []
  }
 ]
}