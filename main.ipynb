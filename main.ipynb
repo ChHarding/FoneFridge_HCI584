{
 "metadata": {
  "language_info": {
   "codemirror_mode": {
    "name": "ipython",
    "version": 3
   },
   "file_extension": ".py",
   "mimetype": "text/x-python",
   "name": "python",
   "nbconvert_exporter": "python",
   "pygments_lexer": "ipython3",
   "version": "3.9.1"
  },
  "orig_nbformat": 4,
  "kernelspec": {
   "name": "python3",
   "display_name": "Python 3.9.1 64-bit"
  },
  "interpreter": {
   "hash": "33dc6d49505b4536b6a128d9d7c879e1fa44477ad44947bbbe73093067fe6393"
  }
 },
 "nbformat": 4,
 "nbformat_minor": 2,
 "cells": [
  {
   "source": [
    "# ITEM SEARCH\n",
    "\n",
    "To do:\n",
    "    call items from popular items library \n",
    "    display\n",
    "\n"
   ],
   "cell_type": "markdown",
   "metadata": {}
  },
  {
   "cell_type": "code",
   "execution_count": 2,
   "metadata": {},
   "outputs": [
    {
     "output_type": "error",
     "ename": "ModuleNotFoundError",
     "evalue": "No module named 'pandas'",
     "traceback": [
      "\u001b[1;31m---------------------------------------------------------------------------\u001b[0m",
      "\u001b[1;31mModuleNotFoundError\u001b[0m                       Traceback (most recent call last)",
      "\u001b[1;32m<ipython-input-2-9534ac840487>\u001b[0m in \u001b[0;36m<module>\u001b[1;34m\u001b[0m\n\u001b[1;32m----> 1\u001b[1;33m \u001b[1;32mimport\u001b[0m \u001b[0mpandas\u001b[0m \u001b[1;32mas\u001b[0m \u001b[0mpd\u001b[0m\u001b[1;33m\u001b[0m\u001b[1;33m\u001b[0m\u001b[0m\n\u001b[0m\u001b[0;32m      2\u001b[0m \u001b[1;33m\u001b[0m\u001b[0m\n\u001b[0;32m      3\u001b[0m \u001b[0mdb\u001b[0m \u001b[1;33m=\u001b[0m \u001b[0mpd\u001b[0m\u001b[1;33m.\u001b[0m\u001b[0mread_csv\u001b[0m\u001b[1;33m(\u001b[0m\u001b[1;34m\"popular_items_library.csv\"\u001b[0m\u001b[1;33m)\u001b[0m\u001b[1;33m\u001b[0m\u001b[1;33m\u001b[0m\u001b[0m\n\u001b[0;32m      4\u001b[0m \u001b[0mdisplay\u001b[0m\u001b[1;33m(\u001b[0m\u001b[0mdb\u001b[0m\u001b[1;33m.\u001b[0m\u001b[0mhead\u001b[0m\u001b[1;33m(\u001b[0m\u001b[1;36m5\u001b[0m\u001b[1;33m)\u001b[0m\u001b[1;33m)\u001b[0m\u001b[1;33m\u001b[0m\u001b[1;33m\u001b[0m\u001b[0m\n\u001b[0;32m      5\u001b[0m \u001b[1;33m\u001b[0m\u001b[0m\n",
      "\u001b[1;31mModuleNotFoundError\u001b[0m: No module named 'pandas'"
     ]
    }
   ],
   "source": [
    "import pandas as pd \n",
    "\n",
    "db = pd.read_csv(\"popular_items_library.csv\")\n",
    "display(db.head(5))\n",
    "\n",
    "\n"
   ]
  },
  {
   "cell_type": "code",
   "execution_count": 3,
   "metadata": {},
   "outputs": [
    {
     "output_type": "stream",
     "name": "stdout",
     "text": [
      "Collecting pandasNote: you may need to restart the kernel to use updated packages.\n",
      "  Downloading pandas-1.2.4-cp39-cp39-win_amd64.whl (9.3 MB)\n",
      "Collecting pytz>=2017.3\n",
      "  Downloading pytz-2021.1-py2.py3-none-any.whl (510 kB)\n",
      "\n",
      "  WARNING: The script f2py.exe is installed in 'C:\\Users\\DELL\\AppData\\Local\\Programs\\Python\\Python39\\Scripts' which is not on PATH.\n",
      "  Consider adding this directory to PATH or, if you prefer to suppress this warning, use --no-warn-script-location.\n",
      "WARNING: You are using pip version 20.2.3; however, version 21.1.2 is available.\n",
      "You should consider upgrading via the 'C:\\Users\\DELL\\AppData\\Local\\Programs\\Python\\Python39\\python.exe -m pip install --upgrade pip' command.\n",
      "Requirement already satisfied: python-dateutil>=2.7.3 in c:\\users\\dell\\appdata\\roaming\\python\\python39\\site-packages (from pandas) (2.8.1)\n",
      "Collecting numpy>=1.16.5\n",
      "  Downloading numpy-1.20.3-cp39-cp39-win_amd64.whl (13.7 MB)\n",
      "Requirement already satisfied: six>=1.5 in c:\\users\\dell\\appdata\\roaming\\python\\python39\\site-packages (from python-dateutil>=2.7.3->pandas) (1.16.0)\n",
      "Installing collected packages: pytz, numpy, pandas\n",
      "Successfully installed numpy-1.20.3 pandas-1.2.4 pytz-2021.1\n"
     ]
    }
   ],
   "source": [
    "pip install pandas"
   ]
  },
  {
   "source": [
    "pandas didn't work so I'll work with TkInter.\n",
    "\n",
    "I found a tutorial in Turkish and followed it: https://www.youtube.com/watch?v=jZ4R-k8cSQw&ab_channel=Yak%C4%B1nKamp%C3%BCsYak%C4%B1nKamp%C3%BCs \n"
   ],
   "cell_type": "markdown",
   "metadata": {}
  },
  {
   "source": [
    "# MANUAL ENTRY\n",
    "\n",
    "variables: title, type, amount, entry date, notification date, expiration date\n",
    "\n",
    "In this window the user will enter every variable. "
   ],
   "cell_type": "markdown",
   "metadata": {}
  },
  {
   "cell_type": "code",
   "execution_count": 14,
   "metadata": {},
   "outputs": [
    {
     "output_type": "stream",
     "name": "stdout",
     "text": [
      "Requirement already satisfied: tkcalendar in c:\\python37\\lib\\site-packages (1.6.1)\nRequirement already satisfied: babel in c:\\python37\\lib\\site-packages (from tkcalendar) (2.6.0)\nRequirement already satisfied: pytz>=0a in c:\\python37\\lib\\site-packages (from babel->tkcalendar) (2019.3)\n"
     ]
    }
   ],
   "source": [
    "!pip install tkcalendar"
   ]
  },
  {
   "cell_type": "code",
   "execution_count": 15,
   "metadata": {},
   "outputs": [
    {
     "output_type": "error",
     "ename": "ModuleNotFoundError",
     "evalue": "No module named 'tkcalendar'",
     "traceback": [
      "\u001b[1;31m---------------------------------------------------------------------------\u001b[0m",
      "\u001b[1;31mModuleNotFoundError\u001b[0m                       Traceback (most recent call last)",
      "\u001b[1;32m<ipython-input-15-07eace64a024>\u001b[0m in \u001b[0;36m<module>\u001b[1;34m\u001b[0m\n\u001b[0;32m     72\u001b[0m \u001b[1;33m\u001b[0m\u001b[0m\n\u001b[0;32m     73\u001b[0m \u001b[1;31m#calendar widget\u001b[0m\u001b[1;33m\u001b[0m\u001b[1;33m\u001b[0m\u001b[1;33m\u001b[0m\u001b[0m\n\u001b[1;32m---> 74\u001b[1;33m \u001b[1;32mfrom\u001b[0m \u001b[0mtkcalendar\u001b[0m \u001b[1;32mimport\u001b[0m \u001b[1;33m*\u001b[0m\u001b[1;33m\u001b[0m\u001b[1;33m\u001b[0m\u001b[0m\n\u001b[0m\u001b[0;32m     75\u001b[0m \u001b[0mentry_date\u001b[0m \u001b[1;33m=\u001b[0m \u001b[0mDateEntry\u001b[0m\u001b[1;33m(\u001b[0m\u001b[0mframe_bottom_right\u001b[0m\u001b[1;33m,\u001b[0m \u001b[0mwidth\u001b[0m\u001b[1;33m=\u001b[0m \u001b[1;36m120\u001b[0m\u001b[1;33m,\u001b[0m \u001b[0mheight\u001b[0m\u001b[1;33m=\u001b[0m \u001b[1;36m120\u001b[0m\u001b[1;33m,\u001b[0m \u001b[0mbackground\u001b[0m\u001b[1;33m=\u001b[0m \u001b[1;34m\"#FCF0E4\"\u001b[0m\u001b[1;33m,\u001b[0m \u001b[0mforeground\u001b[0m\u001b[1;33m=\u001b[0m \u001b[1;34m\"#576566\"\u001b[0m\u001b[1;33m,\u001b[0m \u001b[0mborderwidth\u001b[0m\u001b[1;33m=\u001b[0m \u001b[1;36m1\u001b[0m\u001b[1;33m,\u001b[0m \u001b[0mlocale\u001b[0m\u001b[1;33m=\u001b[0m \u001b[1;34m\"de_DE\"\u001b[0m\u001b[1;33m)\u001b[0m\u001b[1;33m\u001b[0m\u001b[1;33m\u001b[0m\u001b[0m\n\u001b[0;32m     76\u001b[0m \u001b[0mentry_date\u001b[0m\u001b[1;33m.\u001b[0m\u001b[0m_top_cal\u001b[0m\u001b[1;33m.\u001b[0m\u001b[0moverrideredirect\u001b[0m\u001b[1;33m(\u001b[0m\u001b[1;32mFalse\u001b[0m\u001b[1;33m)\u001b[0m\u001b[1;33m\u001b[0m\u001b[1;33m\u001b[0m\u001b[0m\n",
      "\u001b[1;31mModuleNotFoundError\u001b[0m: No module named 'tkcalendar'"
     ]
    }
   ],
   "source": [
    "from tkinter import * \n",
    "\n",
    "#creating the window as canvas\n",
    "master_manual_entry = Tk()\n",
    "canvas = Canvas(master_manual_entry, bg=\"#FCF0E4\", height=750, width=750)\n",
    "canvas.pack()\n",
    "\n",
    "\n",
    "#creating top part\n",
    "#top frame\n",
    "frame_top = Frame(master_manual_entry, bg=\"#A9B6BE\")\n",
    "frame_top.place(relx=0.01, rely=0.01, relheight=0.1, relwidth=0.98)\n",
    "\n",
    "#label inside top frame\n",
    "title = Label(frame_top, bg=\"#A9B6BE\", text= \"FONEFRIDGE\", font=\"roboto 22\")\n",
    "title.pack(pady=14)\n",
    "\n",
    "\n",
    "\n",
    "\n",
    "#creating bottom left part\n",
    "#bottom left frame \n",
    "frame_bottom_left = Frame(master_manual_entry, bg=\"#E9BFA7\")\n",
    "frame_bottom_left.place(relx=0.01, rely=0.12, relheight=0.87, relwidth=0.4)\n",
    "\n",
    "\n",
    "\n",
    "#YOU FORGOT THE FOOD TITLEEEE!!!!!!!!\n",
    "\n",
    "#TYPE\n",
    "#type label inside bottom left frame\n",
    "type_title = Label(frame_bottom_left, bg=\"#E9BFA7\", text= \"Select Type:\", font=\"roboto 15\")\n",
    "type_title.pack(padx=5, pady=5, side=TOP)\n",
    "\n",
    "#dropdown menu\n",
    "food_type = StringVar(frame_bottom_left)\n",
    "food_type.set(\"please select food type\")\n",
    "\n",
    "food_type_dropdown = OptionMenu(frame_bottom_left, food_type, \"Bewerage\", \"Meat\", \"Seafood\", \"Dairy & Eggs\", \"Fruits\", \"Root Vegetables\", \"Vegetables\", \"Snacks\", \"Bakery\", \"Canned\", \"Dressings\", \"Grains\", \"Boxed Meal\", \"Pickles\", \"Herbs & Spices\")\n",
    "food_type_dropdown.pack(padx=5, pady=5, side=TOP)\n",
    "\n",
    "\n",
    "#AMOUNT\n",
    "#creating amount entry\n",
    "#amount label inside bottom left frame\n",
    "amount_title = Label(frame_bottom_left, bg=\"#E9BFA7\", text= \"Select Measurement Unit:\", font=\"roboto 15\")\n",
    "amount_title.pack(padx=5, pady=5, side=TOP)\n",
    "\n",
    "#dropdown unit types\n",
    "amount_type = StringVar(frame_bottom_left)\n",
    "amount_type.set(\"please select unit\")\n",
    "\n",
    "unit_dropdown = OptionMenu(frame_bottom_left, amount_type, \"gram\", \"kilogram\", \"liter\", \"count\", \"ounce\", \"pound\", \"quart\", \"gallon\")\n",
    "unit_dropdown.pack(padx=5, pady=5, side=TOP)\n",
    "\n",
    "#integer input\n",
    "#amount_enter = \n",
    "\n",
    "\n",
    "\n",
    "\n",
    "#creating bottom right part\n",
    "#bottom right frame\n",
    "frame_bottom_right = Frame(master_manual_entry, bg= \"#BE796D\")\n",
    "frame_bottom_right.place(relx=0.42, rely=0.12, relheight=0.87, relwidth=0.57)\n",
    "\n",
    "#ENTRY DATE\n",
    "#tkcalendar needed\n",
    "#entry date label\n",
    "entry_date_title = Label(frame_bottom_right, bg=\"#BE796D\", text= \"Pick the Acqusition Date:\", font=\"roboto 15\")\n",
    "entry_date_title.pack(padx=5, pady=5, side=TOP)\n",
    "\n",
    "#calendar widget\n",
    "from tkcalendar import *\n",
    "\n",
    "entry_date = DateEntry(frame_bottom_right, width= 120, height= 120, background= \"#FCF0E4\", foreground= \"#576566\", borderwidth= 1, locale= \"de_DE\")\n",
    "entry_date._top_cal.overrideredirect(False)\n",
    "entry_date.pack(padx=5, pady=5, side=TOP)\n",
    "\n",
    "\n",
    "#EXPIRATION DATE\n",
    "#NOTIFICATION DATE\n",
    "\n",
    "\n",
    "\n",
    "master_manual_entry.mainloop()"
   ]
  },
  {
   "source": [
    "# notes I take as I learn TkInter\n",
    "\n",
    "\n",
    "\n",
    "pack(w pads and side), place(w relative dist), grid are commands for adding on to the parent.\n",
    "\n",
    "whatever you put inside an area, that area is the parent. (frames are the parents for text etc.)\n",
    "\n",
    "If you keep packing things on the same side, it adds the new object next to (or under) the first thing."
   ],
   "cell_type": "markdown",
   "metadata": {}
  },
  {
   "source": [
    "# SEARCH WINDOW\n",
    "\n",
    "variables: (INSIDE SEARCH DATA: title, type, notification span, expiration span) amount, entry date, notification date, expiration date\n",
    "\n",
    "\n",
    "user will search for items from popular items.\n",
    "\n",
    "Items in the library has data of title, type, notification span, expiration span.\n",
    "\n",
    "when they enter the entry date, the expiration span will be added to it to create expiration date and adding notification span to it will give notification date."
   ],
   "cell_type": "markdown",
   "metadata": {}
  },
  {
   "cell_type": "code",
   "execution_count": 62,
   "metadata": {},
   "outputs": [],
   "source": [
    "from tkinter import * \n",
    "\n",
    "#creating the window as canvas\n",
    "master_library = Tk()\n",
    "canvas = Canvas(master_library, bg=\"#FCF0E4\", height=750, width=750)\n",
    "canvas.pack()\n",
    "\n",
    "\n",
    "#creating top part\n",
    "#top frame\n",
    "frame_top = Frame(master_library, bg=\"#A9B6BE\")\n",
    "frame_top.place(relx=0.01, rely=0.01, relheight=0.1, relwidth=0.98)\n",
    "\n",
    "#label inside top frame\n",
    "title = Label(frame_top, bg=\"#A9B6BE\", text= \"FONEFRIDGE\", font=\"roboto 22\")\n",
    "title.pack(pady=14)\n",
    "\n",
    "\n",
    "\n",
    "#SEARCH\n",
    "#creating the search bar\n",
    "#bottom frame\n",
    "frame_bottom = Frame(master_library, bg=\"#C2D7D0\")\n",
    "frame_bottom.place(relx=0.01, rely=0.12, relheight=0.87, relwidth=0.98)\n",
    "\n",
    "#label for search\n",
    "search_title = Label(frame_bottom, bg=\"#C2D7D0\", text= \"Search from the popular items:\", font=\"roboto 15\")\n",
    "search_title.pack(padx=5, pady=5, side=TOP)\n",
    "\n",
    "\n",
    "\n",
    "#AMOUNT\n",
    "\n",
    "\n",
    "\n",
    "#ENTRY DATE\n",
    "\n",
    "\n",
    "#EXPIRATION DATE\n",
    "#entry date + expiration span = expiration date\n",
    "\n",
    "\n",
    "#NOTIFICATION DATE\n",
    "#expiration date - notification span = notification date\n",
    "\n",
    "\n",
    "\n",
    "#NOTIFICATION TRIGGER\n",
    "\n",
    "master_library.mainloop()"
   ]
  },
  {
   "cell_type": "code",
   "execution_count": null,
   "metadata": {},
   "outputs": [],
   "source": []
  }
 ]
}