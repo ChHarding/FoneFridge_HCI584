{
 "metadata": {
  "language_info": {
   "codemirror_mode": {
    "name": "ipython",
    "version": 3
   },
   "file_extension": ".py",
   "mimetype": "text/x-python",
   "name": "python",
   "nbconvert_exporter": "python",
   "pygments_lexer": "ipython3",
   "version": "3.7.3"
  },
  "orig_nbformat": 4,
  "kernelspec": {
   "name": "python3",
   "display_name": "Python 3.7.3 64-bit"
  },
  "interpreter": {
   "hash": "2b7b5a710781a87842cfe8010c06442799678ef166246941c85da77d9a8410c1"
  }
 },
 "nbformat": 4,
 "nbformat_minor": 2,
 "cells": [
  {
   "source": [
    "# ITEM SEARCH\n",
    "\n",
    "To do:\n",
    "    call items from popular items library \n",
    "    display\n",
    "\n"
   ],
   "cell_type": "markdown",
   "metadata": {}
  },
  {
   "cell_type": "code",
   "execution_count": 1,
   "metadata": {},
   "outputs": [
    {
     "output_type": "error",
     "ename": "ModuleNotFoundError",
     "evalue": "No module named 'pandas'",
     "traceback": [
      "\u001b[1;31m---------------------------------------------------------------------------\u001b[0m",
      "\u001b[1;31mModuleNotFoundError\u001b[0m                       Traceback (most recent call last)",
      "\u001b[1;32m<ipython-input-1-9534ac840487>\u001b[0m in \u001b[0;36m<module>\u001b[1;34m\u001b[0m\n\u001b[1;32m----> 1\u001b[1;33m \u001b[1;32mimport\u001b[0m \u001b[0mpandas\u001b[0m \u001b[1;32mas\u001b[0m \u001b[0mpd\u001b[0m\u001b[1;33m\u001b[0m\u001b[1;33m\u001b[0m\u001b[0m\n\u001b[0m\u001b[0;32m      2\u001b[0m \u001b[1;33m\u001b[0m\u001b[0m\n\u001b[0;32m      3\u001b[0m \u001b[0mdb\u001b[0m \u001b[1;33m=\u001b[0m \u001b[0mpd\u001b[0m\u001b[1;33m.\u001b[0m\u001b[0mread_csv\u001b[0m\u001b[1;33m(\u001b[0m\u001b[1;34m\"popular_items_library.csv\"\u001b[0m\u001b[1;33m)\u001b[0m\u001b[1;33m\u001b[0m\u001b[1;33m\u001b[0m\u001b[0m\n\u001b[0;32m      4\u001b[0m \u001b[0mdisplay\u001b[0m\u001b[1;33m(\u001b[0m\u001b[0mdb\u001b[0m\u001b[1;33m.\u001b[0m\u001b[0mhead\u001b[0m\u001b[1;33m(\u001b[0m\u001b[1;36m5\u001b[0m\u001b[1;33m)\u001b[0m\u001b[1;33m)\u001b[0m\u001b[1;33m\u001b[0m\u001b[1;33m\u001b[0m\u001b[0m\n\u001b[0;32m      5\u001b[0m \u001b[1;33m\u001b[0m\u001b[0m\n",
      "\u001b[1;31mModuleNotFoundError\u001b[0m: No module named 'pandas'"
     ]
    }
   ],
   "source": [
    "import pandas as pd \n",
    "\n",
    "db = pd.read_csv(\"popular_items_library.csv\")\n",
    "display(db.head(5))\n",
    "\n",
    "\n"
   ]
  },
  {
   "source": [
    "pandas didn't work so I'll work with TkInter.\n",
    "\n",
    "I found a tutorial in Turkish and followed it: https://www.youtube.com/watch?v=jZ4R-k8cSQw&ab_channel=Yak%C4%B1nKamp%C3%BCsYak%C4%B1nKamp%C3%BCs \n"
   ],
   "cell_type": "markdown",
   "metadata": {}
  },
  {
   "cell_type": "code",
   "execution_count": 34,
   "metadata": {},
   "outputs": [],
   "source": [
    "from tkinter import * \n",
    "\n",
    "#creating the window as canvas\n",
    "master = Tk()\n",
    "canvas = Canvas(master, bg=\"#FCF0E4\", height=500, width=500)\n",
    "canvas.pack()\n",
    "\n",
    "#creating frames\n",
    "#top frame\n",
    "frame_top = Frame(master, bg=\"#A9B6BE\")\n",
    "frame_top.place(relx=0.01, rely=0.01, relheight=0.1, relwidth=0.98)\n",
    "\n",
    "#bottom frame\n",
    "frame_bottom = Frame(master, bg=\"#E9BFA7\")\n",
    "frame_bottom.place(relx=0.01, rely=0.12, relheight=0.87, relwidth=0.98)\n",
    "\n",
    "#label inside top frame\n",
    "title = Label(frame_top, bg=\"#A9B6BE\", text= \"FONEFRIDGE\", font=\"roboto 22\")\n",
    "title.pack(pady=14)\n",
    "\n",
    "#label inside bottom frame\n",
    "sub_title = Label(frame_bottom, bg=\"#E9BFA7\", text= \"Select Type:\", font=\"roboto 15\")\n",
    "sub_title.pack(padx=5, pady=5, side=TOP)\n",
    "\n",
    "#dropdown menu\n",
    "food_type = StringVar(frame_bottom)\n",
    "food_type.set(\"please choose your food item type\")\n",
    "\n",
    "food_type_dropdown = OptionMenu(frame_bottom, food_type, \"Bewerage\", \"Meat\", \"Seafood\", \"Dairy & Eggs\", \"Fruits\", \"Root Vegetables\", \"Vegetables\", \"Snacks\", \"Bakery\", \"Canned\", \"Dressings\", \"Grains\", \"Boxed Meal\", \"Pickles\", \"Herbs & Spices\")\n",
    "food_type_dropdown.pack(padx=5, pady=20, side=TOP)\n",
    "\n",
    "\n",
    "master.mainloop()"
   ]
  },
  {
   "source": [
    "# notes I take as I learn TkInter\n",
    "\n",
    "\n",
    "\n",
    "pack(w pads and side), place(w relative dist), grid are commands for adding on to the parent.\n",
    "\n",
    "whatever you put inside an area, that area is the parent. (frames are the parents for text etc.)"
   ],
   "cell_type": "markdown",
   "metadata": {}
  }
 ]
}