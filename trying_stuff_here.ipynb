{
 "metadata": {
  "language_info": {
   "codemirror_mode": {
    "name": "ipython",
    "version": 3
   },
   "file_extension": ".py",
   "mimetype": "text/x-python",
   "name": "python",
   "nbconvert_exporter": "python",
   "pygments_lexer": "ipython3",
   "version": "3.9.1"
  },
  "orig_nbformat": 4,
  "kernelspec": {
   "name": "python3",
   "display_name": "Python 3.9.1 64-bit"
  },
  "interpreter": {
   "hash": "33dc6d49505b4536b6a128d9d7c879e1fa44477ad44947bbbe73093067fe6393"
  }
 },
 "nbformat": 4,
 "nbformat_minor": 2,
 "cells": [
  {
   "cell_type": "code",
   "execution_count": 105,
   "metadata": {},
   "outputs": [],
   "source": [
    "import pandas as pd \n",
    "import datetime\n",
    "from tkinter import * \n",
    "from tkcalendar import *"
   ]
  },
  {
   "source": [
    "# Library items class: Food"
   ],
   "cell_type": "markdown",
   "metadata": {}
  },
  {
   "cell_type": "code",
   "execution_count": 92,
   "metadata": {},
   "outputs": [
    {
     "output_type": "stream",
     "name": "stdout",
     "text": [
      "title                strawberry\ntype                      Fruit\nnotify (days)                 1\nexpiration (days)             3\nName: 0, dtype: object\n"
     ]
    }
   ],
   "source": [
    "#getting the food item as an instance\n",
    "df = pd.read_csv(\"popular_items_library.csv\")\n",
    "#name = input(\"search foods from popular items library:\")\n",
    "name = \"strawberry\"\n",
    "\n",
    "item_info = df.query(\"title == @name\")\n",
    "\n",
    "if len(item_info) > 0:\n",
    "    #print(\"error, more than one result found.\")\n",
    "    item_info.reset_index(drop=True, inplace=True)\n",
    "    #print(res)\n",
    "    item_info = item_info.loc[0]\n",
    "\n",
    "print(item_info)\n",
    "#name = item_info[0]\n",
    "#typef = item_info[1]\n",
    "#notifyd = item_info[2]\n",
    "#expired = item_info[3]\n",
    "\n",
    "#print(notifyd)\n"
   ]
  },
  {
   "cell_type": "code",
   "execution_count": 103,
   "metadata": {},
   "outputs": [
    {
     "output_type": "stream",
     "name": "stdout",
     "text": [
      "The strawberry is a type of Fruit. It will expire in 3 days after the entry date. The notification will be sent 1 days before the expiration date.\n"
     ]
    }
   ],
   "source": [
    "class Food(object):\n",
    "    def __init__(self, name):\n",
    "        \n",
    "        self.name = name\n",
    "        self.typef = item_info[1]\n",
    "        self.notifyd = item_info[2]\n",
    "        self.expired = item_info[3]\n",
    "    \n",
    "    def display_food(self):\n",
    "        return \"The {} is a type of {}. It will expire in {} days after the entry date. The notification will be sent {} days before the expiration date.\".format(self.name, typef, expired, notifyd)\n",
    "\n",
    "food_i = Food(name)\n",
    "print(Food.display_food(food_i))\n",
    "\n"
   ]
  },
  {
   "source": [
    "# User items class: Entry_Food"
   ],
   "cell_type": "markdown",
   "metadata": {}
  },
  {
   "cell_type": "code",
   "execution_count": 85,
   "metadata": {},
   "outputs": [
    {
     "output_type": "display_data",
     "data": {
      "text/plain": "  title  type  amount  entry date notify (days) expiration (days)\n0  beef  Meat       3  2021-06-16    2021-06-18        2021-06-21",
      "text/html": "<div>\n<style scoped>\n    .dataframe tbody tr th:only-of-type {\n        vertical-align: middle;\n    }\n\n    .dataframe tbody tr th {\n        vertical-align: top;\n    }\n\n    .dataframe thead th {\n        text-align: right;\n    }\n</style>\n<table border=\"1\" class=\"dataframe\">\n  <thead>\n    <tr style=\"text-align: right;\">\n      <th></th>\n      <th>title</th>\n      <th>type</th>\n      <th>amount</th>\n      <th>entry date</th>\n      <th>notify (days)</th>\n      <th>expiration (days)</th>\n    </tr>\n  </thead>\n  <tbody>\n    <tr>\n      <th>0</th>\n      <td>beef</td>\n      <td>Meat</td>\n      <td>3</td>\n      <td>2021-06-16</td>\n      <td>2021-06-18</td>\n      <td>2021-06-21</td>\n    </tr>\n  </tbody>\n</table>\n</div>"
     },
     "metadata": {}
    }
   ],
   "source": [
    "df_user = pd.read_csv(\"user_items.csv\")\n",
    "display(df_user.head(5))\n"
   ]
  },
  {
   "cell_type": "code",
   "execution_count": 110,
   "metadata": {},
   "outputs": [
    {
     "output_type": "stream",
     "name": "stdout",
     "text": [
      "strawberry Fruit 5 2021-06-20 2021-06-23 2021-06-22\nYour item will expire on 2021-06-23\nYou will get a notification on 2021-06-22\n"
     ]
    }
   ],
   "source": [
    "class Entry_Food(Food):\n",
    "    def __init__(self, name, amount):\n",
    "\n",
    "        self.name = name\n",
    "        self.typef = item_info[1]\n",
    "        self.notifyd = item_info[2]\n",
    "        self.expired = item_info[3]\n",
    "\n",
    "        self.amount = amount\n",
    "\n",
    "        self.today = datetime.datetime.today().date()\n",
    "        self.expirationd = today + datetime.timedelta(days=int(item_info[\"expiration (days)\"]))\n",
    "        self.notificationd = self.expirationd - datetime.timedelta(days=int(item_info[\"notify (days)\"]))\n",
    "\n",
    "    def display_food_entry(self):\n",
    "        return \"{} {} {} {} {} {}\".format(self.name, typef, self.amount, self.today, self.expirationd, self.notificationd)\n",
    "\n",
    "    def expiration_date(self):\n",
    "        return \"Your item will expire on {}\".format(self.expirationd)\n",
    "\n",
    "    def notification_date(self):\n",
    "        return \"You will get a notification on {}\".format(self.notificationd)\n",
    "\n",
    "\n",
    "amount = 5\n",
    "food_itemm = Entry_Food(name, amount)\n",
    "print(Entry_Food.display_food_entry(food_itemm))\n",
    "print(Entry_Food.expiration_date(food_itemm))\n",
    "print(Entry_Food.notification_date(food_itemm))\n",
    "\n"
   ]
  },
  {
   "source": [
    "# search by type"
   ],
   "cell_type": "markdown",
   "metadata": {}
  },
  {
   "cell_type": "code",
   "execution_count": 112,
   "metadata": {},
   "outputs": [
    {
     "output_type": "stream",
     "name": "stdout",
     "text": [
      "found 3 foods of that type\n         title   type  notify (days)  expiration (days)\n10  strawberry  Fruit              1                  3\n11    cucumber  Fruit              3                  7\n12      tomato  Fruit              3                  7\n"
     ]
    }
   ],
   "source": [
    "ty = input(\"type type: \")\r\n",
    "type_list = df.query(\"type == @ty\")\r\n",
    "print(\"Found\", len(type_list), \"foods of that type.\")\r\n",
    "print(type_list)"
   ]
  },
  {
   "cell_type": "code",
   "execution_count": null,
   "metadata": {},
   "outputs": [],
   "source": []
  }
 ]
}