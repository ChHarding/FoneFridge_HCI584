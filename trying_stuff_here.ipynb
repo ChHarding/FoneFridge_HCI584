{
 "metadata": {
  "language_info": {
   "codemirror_mode": {
    "name": "ipython",
    "version": 3
   },
   "file_extension": ".py",
   "mimetype": "text/x-python",
   "name": "python",
   "nbconvert_exporter": "python",
   "pygments_lexer": "ipython3",
   "version": "3.9.1"
  },
  "orig_nbformat": 4,
  "kernelspec": {
   "name": "python3",
   "display_name": "Python 3.9.1 64-bit"
  },
  "interpreter": {
   "hash": "33dc6d49505b4536b6a128d9d7c879e1fa44477ad44947bbbe73093067fe6393"
  }
 },
 "nbformat": 4,
 "nbformat_minor": 2,
 "cells": [
  {
   "cell_type": "code",
   "execution_count": 9,
   "metadata": {},
   "outputs": [],
   "source": [
    "import pandas as pd \n",
    "import datetime"
   ]
  },
  {
   "cell_type": "code",
   "execution_count": 31,
   "metadata": {},
   "outputs": [
    {
     "output_type": "stream",
     "name": "stdout",
     "text": [
      "['beef', 'Meat', 3, 5]\n3\n"
     ]
    }
   ],
   "source": [
    "#getting the food item as an instance\n",
    "df = pd.read_csv(\"popular_items_library.csv\")\n",
    "#name = input(\"search foods from popular items library:\")\n",
    "name = \"beef\"\n",
    "\n",
    "res = df.query(\"title == @name\")\n",
    "\n",
    "if len(res) > 1:\n",
    "    #print(\"error, more than one result found.\")\n",
    "    res.reset_index(drop=True, inplace=True)\n",
    "    #print(res)\n",
    "    item_info = res.loc[0]\n",
    "\n",
    "#print(item_info)\n",
    "name = item_info[0]\n",
    "typef = item_info[1]\n",
    "notifyd = item_info[2]\n",
    "expired = item_info[3]\n",
    "\n",
    "#print(notifyd)"
   ]
  },
  {
   "cell_type": "code",
   "execution_count": 34,
   "metadata": {},
   "outputs": [
    {
     "output_type": "stream",
     "name": "stdout",
     "text": [
      "The beef is a type of Meat. It will expire in 5 days after the entry date. The notification will be sent 3 days before the expiration date.\n"
     ]
    }
   ],
   "source": [
    "class Food(object):\n",
    "    def __init__(self, name):\n",
    "        \n",
    "        self.name = name\n",
    "        it = list(item_info)\n",
    "        typef = item_info[1]\n",
    "        notifyd = item_info[2]\n",
    "        expired = item_info[3]\n",
    "    \n",
    "    def display_food(self):\n",
    "        return \"The {} is a type of {}. It will expire in {} days after the entry date. The notification will be sent {} days before the expiration date.\".format(self.name, typef, expired, notifyd)\n",
    "\n",
    "food_i = Food(food_item)\n",
    "print(Food.display_food(food_i))\n",
    "\n"
   ]
  },
  {
   "cell_type": "code",
   "execution_count": null,
   "metadata": {},
   "outputs": [],
   "source": [
    "class Entry_Food(Food):\n",
    "    def __init__(self, amount, today):\n",
    "        self.amount = amount\n",
    "        self.entryd = today\n"
   ]
  },
  {
   "cell_type": "code",
   "execution_count": null,
   "metadata": {},
   "outputs": [],
   "source": [
    "\n",
    "class Food:\n",
    "    def __init__(self, name, typef, amount, entryd, notifyd, expired):\n",
    "        self.name = name\n",
    "        self.typef = typef\n",
    "        self.amount = amount\n",
    "        self.entryd = entryd\n",
    "        self.notifyd = notifyd\n",
    "        self.expired = expired\n",
    "\n",
    "    def df_read(self):\n",
    "        se\n",
    "    \n",
    "    def display_food(self):\n",
    "        return \"The item {} is a {}. It will expire in {} days after the entry date. The notification will be sent {} days before the expiration date.\" format(self.name, self.typef, self.expired, self.notifyd)"
   ]
  }
 ]
}