{
 "metadata": {
  "language_info": {
   "codemirror_mode": {
    "name": "ipython",
    "version": 3
   },
   "file_extension": ".py",
   "mimetype": "text/x-python",
   "name": "python",
   "nbconvert_exporter": "python",
   "pygments_lexer": "ipython3",
   "version": "3.9.1"
  },
  "orig_nbformat": 4,
  "kernelspec": {
   "name": "python3",
   "display_name": "Python 3.9.1 64-bit"
  },
  "interpreter": {
   "hash": "33dc6d49505b4536b6a128d9d7c879e1fa44477ad44947bbbe73093067fe6393"
  }
 },
 "nbformat": 4,
 "nbformat_minor": 2,
 "cells": [
  {
   "cell_type": "code",
   "execution_count": null,
   "metadata": {},
   "outputs": [],
   "source": [
    "def got_type(event):\n",
    "    print(event) "
   ]
  },
  {
   "cell_type": "code",
   "execution_count": 2,
   "metadata": {},
   "outputs": [
    {
     "output_type": "stream",
     "name": "stdout",
     "text": [
      "The strawberry is a type of Fruit. It will expire in 3 days after the entry date. The notification will be sent 1 days before the expiration date.\nstrawberry Fruit 5 2021-06-21 2021-06-24 2021-06-23\nYour item will expire on 2021-06-24\nYou will get a notification on 2021-06-23\n"
     ]
    }
   ],
   "source": [
    "import pandas as pd \n",
    "import datetime\n",
    "from tkinter import * \n",
    "from tkcalendar import *\n",
    "\n",
    "from class_food import *\n",
    "from class_entry_food import *"
   ]
  },
  {
   "cell_type": "code",
   "execution_count": 6,
   "metadata": {},
   "outputs": [
    {
     "output_type": "stream",
     "name": "stdout",
     "text": [
      "The strawberry is a type of Fruit. It will expire in 3 days after the entry date. The notification will be sent 1 days before the expiration date.\n"
     ]
    }
   ],
   "source": [
    "#test class_food\n",
    "food_i = Food(name)\n",
    "print(Food.display_food(food_i))"
   ]
  },
  {
   "cell_type": "code",
   "execution_count": 7,
   "metadata": {},
   "outputs": [
    {
     "output_type": "stream",
     "name": "stdout",
     "text": [
      "strawberry Fruit 5 2021-06-20 2021-06-23 2021-06-22\nYour item will expire on 2021-06-23\nYou will get a notification on 2021-06-22\n"
     ]
    }
   ],
   "source": [
    "#test class_entry_food\n",
    "amount = 5\n",
    "food_itemm = Entry_Food(name, amount)\n",
    "print(Entry_Food.display_food_entry(food_itemm))\n",
    "print(Entry_Food.expiration_date(food_itemm))\n",
    "print(Entry_Food.notification_date(food_itemm))\n"
   ]
  },
  {
   "source": [
    "# Searching item name"
   ],
   "cell_type": "markdown",
   "metadata": {}
  },
  {
   "cell_type": "code",
   "execution_count": 8,
   "metadata": {},
   "outputs": [],
   "source": [
    "\n",
    "master = Tk()\n",
    "master.title(FoneFrid)\n",
    "canvas = Canvas(master, bg=\"#FCF0E4\", height=750, width=750)\n",
    "canvas.pack()\n",
    "\n",
    "class Fonefridge(object):\n",
    "    def __init__(self, master):\n",
    "      \n",
    "        app_frame = Frame(master)\n",
    "        app_frame.pack()\n",
    "\n",
    "        #visual part(no function):\n",
    "        #AREAS:\n",
    "        #top frame\n",
    "        self.frame_top = Frame(master, bg=\"#A9B6BE\")\n",
    "        self.frame_top.place(relx=0.01, rely=0.01, relheight=0.1, relwidth=0.98)\n",
    "\n",
    "        #bottom left frame \n",
    "        self.frame_bottom_left = Frame(master, bg=\"#E9BFA7\")\n",
    "        self.frame_bottom_left.place(relx=0.01, rely=0.12, relheight=0.87, relwidth=0.4)\n",
    "\n",
    "        #bottom right frame\n",
    "        self.frame_bottom_right = Frame(master, bg=\"#BE796D\")\n",
    "        self.frame_bottom_right.place(relx=0.42, rely=0.12, relheight=0.87, relwidth=0.57)\n",
    "\n",
    "        #TITLES:\n",
    "        #main title-FONEFRIDGE\n",
    "        self.title = Label(self.frame_top, bg=\"#A9B6BE\", text= \"FONEFRIDGE\", font=\"roboto 22\")\n",
    "        self.title.pack(pady=14)\n",
    "\n",
    "        #food name search title-Search the name of your item:\n",
    "        self.title = Label(self.frame_bottom_left, bg=\"#E9BFA7\", text= \"Search the name of your item:\", font=\"roboto 15\")\n",
    "        self.title.pack(pady=5)\n",
    "\n",
    "\n",
    "\n",
    "\n",
    "        #text entry slot\n",
    "        self.entry_name = Entry(master, textvariable=self.name, width=50)\n",
    "        self.entry_name.pack(padx=10, pady=5)\n",
    "\n",
    "        self.name = StringVar()    #IntVar() & DoubleVar()      self.entry_name.get(command=Store_name)\n",
    "\n",
    "        self.search_button = Button(self.frame_bottom_left, text=\"Search\", command=self.display_item)\n",
    "        self.search_button.pack(padx=10, pady=5)\n",
    "\n",
    "        self.result = Label(self.frame_bottom_right, bg=\"#BE796D\", font=\"roboto 11\")\n",
    "        self.result.pack(padx=10, pady=5)\n",
    "\n",
    "    def display_item(self):\n",
    "        self.result\n",
    "\n",
    "    #def Store_name(self):\n",
    "        #name = return self.name\n",
    "\n",
    "print(name)\n",
    "\n",
    "e = Fonefridge(master)\n",
    "\n",
    "master.mainloop()"
   ]
  },
  {
   "cell_type": "code",
   "execution_count": null,
   "metadata": {},
   "outputs": [],
   "source": [
    "#entry name method I sa somewhere\n",
    "entry_name = Entry(master, width=50)\n",
    "name = entry_name.get()"
   ]
  },
  {
   "cell_type": "code",
   "execution_count": null,
   "metadata": {},
   "outputs": [],
   "source": [
    "#visual design things\n",
    "\n",
    "#creating top part\n",
    "#top frame\n",
    "frame_top = Frame(master, bg=\"#A9B6BE\")\n",
    "frame_top.place(relx=0.01, rely=0.01, relheight=0.1, relwidth=0.98)\n",
    "\n",
    "#label inside top frame\n",
    "title = Label(frame_top, bg=\"#A9B6BE\", text= \"FONEFRIDGE\", font=\"roboto 22\")\n",
    "title.pack(pady=14)\n",
    "\n",
    "\n",
    "#creating bottom left part\n",
    "#bottom left frame \n",
    "frame_bottom_left = Frame(master, bg=\"#E9BFA7\")\n",
    "frame_bottom_left.place(relx=0.01, rely=0.12, relheight=0.87, relwidth=0.4)\n",
    "\n",
    "\n",
    "#NAME of the item\n",
    "entry_name = Entry(master, width=50)\n",
    "entry_name.pack(padx=5, pady=5, side=TOP)\n",
    "name = entry_name.get()\n",
    "\n",
    "#creating bottom right part\n",
    "#bottom right frame\n",
    "frame_bottom_right = Frame(master, bg= \"#BE796D\")\n",
    "frame_bottom_right.place(relx=0.42, rely=0.12, relheight=0.87, relwidth=0.57)\n"
   ]
  }
 ]
}