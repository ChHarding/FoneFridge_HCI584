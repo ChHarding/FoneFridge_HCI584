{
 "metadata": {
  "language_info": {
   "codemirror_mode": {
    "name": "ipython",
    "version": 3
   },
   "file_extension": ".py",
   "mimetype": "text/x-python",
   "name": "python",
   "nbconvert_exporter": "python",
   "pygments_lexer": "ipython3",
   "version": "3.9.1"
  },
  "orig_nbformat": 4,
  "kernelspec": {
   "name": "python3",
   "display_name": "Python 3.9.1 64-bit"
  },
  "interpreter": {
   "hash": "33dc6d49505b4536b6a128d9d7c879e1fa44477ad44947bbbe73093067fe6393"
  }
 },
 "nbformat": 4,
 "nbformat_minor": 2,
 "cells": [
  {
   "cell_type": "code",
   "execution_count": null,
   "metadata": {},
   "outputs": [],
   "source": [
    "def got_type(event):\n",
    "    print(event) "
   ]
  },
  {
   "cell_type": "code",
   "execution_count": 8,
   "metadata": {},
   "outputs": [],
   "source": [
    "import pandas as pd \n",
    "import datetime\n",
    "from tkinter import * \n",
    "from tkcalendar import *\n",
    "\n",
    "from class_food import *\n",
    "from class_entry_food import *"
   ]
  },
  {
   "cell_type": "code",
   "execution_count": 6,
   "metadata": {},
   "outputs": [
    {
     "output_type": "stream",
     "name": "stdout",
     "text": [
      "The strawberry is a type of Fruit. It will expire in 3 days after the entry date. The notification will be sent 1 days before the expiration date.\n"
     ]
    }
   ],
   "source": [
    "#test class_food\n",
    "food_i = Food(name)\n",
    "print(Food.display_food(food_i))"
   ]
  },
  {
   "cell_type": "code",
   "execution_count": 7,
   "metadata": {},
   "outputs": [
    {
     "output_type": "stream",
     "name": "stdout",
     "text": [
      "strawberry Fruit 5 2021-06-20 2021-06-23 2021-06-22\nYour item will expire on 2021-06-23\nYou will get a notification on 2021-06-22\n"
     ]
    }
   ],
   "source": [
    "#test class_entry_food\n",
    "amount = 5\n",
    "food_itemm = Entry_Food(name, amount)\n",
    "print(Entry_Food.display_food_entry(food_itemm))\n",
    "print(Entry_Food.expiration_date(food_itemm))\n",
    "print(Entry_Food.notification_date(food_itemm))\n"
   ]
  },
  {
   "source": [
    "# Searching item name"
   ],
   "cell_type": "markdown",
   "metadata": {}
  },
  {
   "cell_type": "code",
   "execution_count": 15,
   "metadata": {},
   "outputs": [],
   "source": [
    "master = Tk()\n",
    "canvas = Canvas(master, bg=\"#FCF0E4\", height=750, width=750)\n",
    "canvas.pack()\n",
    "\n",
    "class Fonefridge(object):\n",
    "    def __init__(self, master):\n",
    "\n",
    "        self.master = master\n",
    "\n",
    "        \n",
    "        app_frame = Frame(master)\n",
    "        app_frame.pack()\n",
    "\n",
    "    def name(self):\n",
    "        self.entry_name = Entry(master, width=50)\n",
    "        self.entry_name.pack(padx=50, pady=20)\n",
    "\n",
    "\n",
    "\n",
    "\n",
    "master.mainloop()"
   ]
  },
  {
   "cell_type": "code",
   "execution_count": null,
   "metadata": {},
   "outputs": [],
   "source": [
    "entry_name = Entry(master, width=50)\n",
    "name = entry_name.get()"
   ]
  },
  {
   "cell_type": "code",
   "execution_count": null,
   "metadata": {},
   "outputs": [],
   "source": [
    "#creating top part\n",
    "#top frame\n",
    "frame_top = Frame(master, bg=\"#A9B6BE\")\n",
    "frame_top.place(relx=0.01, rely=0.01, relheight=0.1, relwidth=0.98)\n",
    "\n",
    "#label inside top frame\n",
    "title = Label(frame_top, bg=\"#A9B6BE\", text= \"FONEFRIDGE\", font=\"roboto 22\")\n",
    "title.pack(pady=14)\n",
    "\n",
    "\n",
    "#creating bottom left part\n",
    "#bottom left frame \n",
    "frame_bottom_left = Frame(master, bg=\"#E9BFA7\")\n",
    "frame_bottom_left.place(relx=0.01, rely=0.12, relheight=0.87, relwidth=0.4)\n",
    "\n",
    "\n",
    "#NAME of the item\n",
    "entry_name = Entry(master, width=50)\n",
    "entry_name.pack(padx=5, pady=5, side=TOP)\n",
    "name = entry_name.get()\n",
    "\n",
    "#creating bottom right part\n",
    "#bottom right frame\n",
    "frame_bottom_right = Frame(master, bg= \"#BE796D\")\n",
    "frame_bottom_right.place(relx=0.42, rely=0.12, relheight=0.87, relwidth=0.57)\n"
   ]
  }
 ]
}